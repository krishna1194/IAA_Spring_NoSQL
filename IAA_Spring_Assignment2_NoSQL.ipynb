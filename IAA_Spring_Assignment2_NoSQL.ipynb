{
  "nbformat": 4,
  "nbformat_minor": 0,
  "metadata": {
    "colab": {
      "provenance": [],
      "authorship_tag": "ABX9TyO7nvCrMldFTsYcaqaWKCQG"
    },
    "kernelspec": {
      "name": "python3",
      "display_name": "Python 3"
    },
    "language_info": {
      "name": "python"
    }
  },
  "cells": [
    {
      "cell_type": "markdown",
      "source": [
        "# IAA Spring Assignment2 NoSQL"
      ],
      "metadata": {
        "id": "_aqU9W8oIKo3"
      }
    },
    {
      "cell_type": "markdown",
      "source": [
        "## Install Dependencies"
      ],
      "metadata": {
        "id": "YeLXzFZKIH0t"
      }
    },
    {
      "cell_type": "code",
      "execution_count": null,
      "metadata": {
        "id": "kWxEC96jH_Uw"
      },
      "outputs": [],
      "source": [
        "!pip install google-cloud-firestore"
      ]
    },
    {
      "cell_type": "markdown",
      "source": [
        "## Import Python Libraries"
      ],
      "metadata": {
        "id": "5j7FM_4eISyl"
      }
    },
    {
      "cell_type": "code",
      "source": [
        "from google.cloud import firestore\n",
        "import json\n",
        "import os, re"
      ],
      "metadata": {
        "id": "H_m-XJC0IQ1q"
      },
      "execution_count": 1,
      "outputs": []
    },
    {
      "cell_type": "markdown",
      "source": [
        "## Set Environment Variable"
      ],
      "metadata": {
        "id": "PwdQ9SJPIYDT"
      }
    },
    {
      "cell_type": "code",
      "source": [
        "# Set the environment variable for Google Cloud Firestore.\n",
        "# This is a service account that allows read/write access to Google Firestore.\n",
        "os.environ[\"GOOGLE_APPLICATION_CREDENTIALS\"]=\"iaa_firestore_sa_20230312.json\""
      ],
      "metadata": {
        "id": "WQKOBpphIVQl"
      },
      "execution_count": 2,
      "outputs": []
    },
    {
      "cell_type": "code",
      "source": [
        "# Connect to Google Cloud Firestore and create the db object.\n",
        "db = firestore.Client()"
      ],
      "metadata": {
        "id": "CeMS0z2fIn2K"
      },
      "execution_count": 3,
      "outputs": []
    },
    {
      "cell_type": "code",
      "source": [
        "# Specify Firestore Params\n",
        "\n",
        "collection_id = 'iaa_2023'"
      ],
      "metadata": {
        "id": "ll33gfI2Iw6r"
      },
      "execution_count": 4,
      "outputs": []
    },
    {
      "cell_type": "markdown",
      "source": [
        "## Read from Google Cloud Firestore\n",
        "\n",
        "**Instructions:**\n",
        "\n",
        "1. Read a record/document from Google Cloud Firestore. The record/document is located at a Collection called \"iaa_2023\" and the record/document name is called \"dan_zaratsian\".\n",
        "\n",
        "2. Copy that record/document into a variable called \"test_record\". (Or you can name the variable something else if you prefer)."
      ],
      "metadata": {
        "id": "ZzIGYUgFI1VG"
      }
    },
    {
      "cell_type": "code",
      "source": [
        "# Code to read a record/document from Firestore\n",
        "\n",
        "doc_id = 'dan_zaratsian'\n",
        "\n",
        "fs_obj = db.collection(collection_id).document(doc_id)\n",
        "\n",
        "doc = fs_obj.get()\n",
        "\n",
        "if doc.exists:\n",
        "    test_record = doc.to_dict()\n",
        "    print(\"test_record:\", test_record) # Print the test_record that was read from Google Firestore\n",
        "else:\n",
        "    print(\"No such document!\")"
      ],
      "metadata": {
        "colab": {
          "base_uri": "https://localhost:8080/"
        },
        "id": "0bMKvMl7Iyrl",
        "outputId": "5407f9dc-b101-4b75-aa0e-18343e5a5601"
      },
      "execution_count": 6,
      "outputs": [
        {
          "output_type": "stream",
          "name": "stdout",
          "text": [
            "test_record: {'iaa_graduation_year': 2011, 'favorite_sport': 'cycling', 'favorite_vacations': ['Iceland', 'Patagonia', 'Finland']}\n"
          ]
        }
      ]
    },
    {
      "cell_type": "markdown",
      "source": [
        "## Write to Google Cloud Firestore\n",
        "\n",
        "**Instructions:**\n",
        "\n",
        "1. The \"test_record\" variable that you created in the previous step should be a json payload. I want you to add a new key-value field to the test_record. You can name the key whatever you want and the value(s) can also be whatever you choose.\n",
        "\n",
        "2. Write the modified \"test_record\" json payload back to the Firestore database. Use the collection ID \"iaa_2023\" and the document id should be your name. You can use the code framework, shown below, as a guide."
      ],
      "metadata": {
        "id": "cyOBTo1xMtve"
      }
    },
    {
      "cell_type": "code",
      "source": [
        "# Add a new key-value field to the test_record. \n",
        "test_record['best_football_club_in_the_world'] = 'FCBarcelona'"
      ],
      "metadata": {
        "id": "SgPJYEi4I0bo"
      },
      "execution_count": null,
      "outputs": []
    },
    {
      "cell_type": "code",
      "source": [
        "# Code to write a record/document to Firestore\n",
        "\n",
        "your_doc_id = 'KarthickKrishna_Balaji'\n",
        "\n",
        "fs_obj = db.collection(collection_id).document(your_doc_id)\n",
        "\n",
        "fs_obj.set(test_record)"
      ],
      "metadata": {
        "colab": {
          "base_uri": "https://localhost:8080/"
        },
        "id": "v6VINAwvJecL",
        "outputId": "f676c743-fc1d-49b9-c3cc-bde3e2730f4a"
      },
      "execution_count": null,
      "outputs": [
        {
          "output_type": "execute_result",
          "data": {
            "text/plain": [
              "update_time {\n",
              "  seconds: 1678580826\n",
              "  nanos: 755543000\n",
              "}"
            ]
          },
          "metadata": {},
          "execution_count": 15
        }
      ]
    },
    {
      "cell_type": "code",
      "source": [
        "# Checking if what I updated is sent to Firestore (just to confirm it worked)\n",
        "\n",
        "check1 = db.collection('iaa_2023').document('KarthickKrishna_Balaji')\n",
        "check_doc = check1.get()\n",
        "\n",
        "if check_doc.exists:\n",
        "    cheking = check_doc.to_dict()\n",
        "    print(\"cheking if the record I pushed is present:\", cheking)\n",
        "else:\n",
        "    print(\"No such document!\")"
      ],
      "metadata": {
        "colab": {
          "base_uri": "https://localhost:8080/"
        },
        "id": "OwvDckFFNrxI",
        "outputId": "9cc47d83-f242-4df3-b5e2-ae8fd2fb3d38"
      },
      "execution_count": null,
      "outputs": [
        {
          "output_type": "stream",
          "name": "stdout",
          "text": [
            "cheking if the record I pushed is present: {'best_football_club_in_the_world': 'FCBarcelona', 'iaa_graduation_year': 2011, 'favorite_vacations': ['Iceland', 'Patagonia', 'Finland'], 'favorite_sport': 'cycling'}\n"
          ]
        }
      ]
    },
    {
      "cell_type": "code",
      "source": [],
      "metadata": {
        "id": "Q0Cg8mfPOnJw"
      },
      "execution_count": null,
      "outputs": []
    }
  ]
}